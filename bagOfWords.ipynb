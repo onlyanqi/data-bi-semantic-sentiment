{
 "cells": [
  {
   "cell_type": "code",
   "execution_count": 1,
   "metadata": {},
   "outputs": [],
   "source": [
    "import glob\n",
    "import os\n",
    "import pandas as pd"
   ]
  },
  {
   "cell_type": "code",
   "execution_count": 2,
   "metadata": {
    "pycharm": {
     "name": "#%%\n"
    }
   },
   "outputs": [],
   "source": [
    "inputfile = str(os.path.dirname(os.getcwd())) + \"/A4/tweets/*.csv\"\n",
    "outputfile = str(os.path.dirname(os.getcwd())) + \"/A4/tweets/all.csv\"\n",
    "csv_list = glob.glob(inputfile)"
   ]
  },
  {
   "cell_type": "code",
   "execution_count": 3,
   "metadata": {
    "pycharm": {
     "name": "#%%\n"
    }
   },
   "outputs": [],
   "source": [
    "filepath = csv_list[0]\n",
    "df = pd.read_csv(filepath, encoding=\"gbk\", low_memory=False)\n",
    "df = df.text\n",
    "df = df.to_csv(outputfile, encoding=\"gbk\", index=False)"
   ]
  },
  {
   "cell_type": "code",
   "execution_count": 4,
   "metadata": {
    "pycharm": {
     "name": "#%%\n"
    }
   },
   "outputs": [],
   "source": [
    "# Combine csv files and only select the text field, save into all.csv\n",
    "for i in range(1, len(csv_list)):\n",
    "    filepath = csv_list[i]\n",
    "    df = pd.read_csv(filepath, encoding=\"gbk\", low_memory=False)\n",
    "    df = df.text\n",
    "    df = df.to_csv(outputfile, encoding=\"gbk\", index=False, header=False, mode='a+')\n"
   ]
  },
  {
   "cell_type": "code",
   "execution_count": 5,
   "metadata": {
    "pycharm": {
     "name": "#%%\n"
    }
   },
   "outputs": [],
   "source": [
    "# Change Dtype to String, Drop duplicated rows\n",
    "import pandas as pd\n",
    "import re\n",
    "\n",
    "data = pd.read_csv(\"tweets/all.csv\")\n",
    "data['text'] = data['text'].astype('string')\n",
    "data.drop_duplicates(inplace=True)"
   ]
  },
  {
   "cell_type": "code",
   "execution_count": 6,
   "metadata": {
    "pycharm": {
     "name": "#%%\n"
    }
   },
   "outputs": [
    {
     "name": "stderr",
     "output_type": "stream",
     "text": [
      "[nltk_data] Downloading package stopwords to\n",
      "[nltk_data]     /Users/chenanqi/nltk_data...\n",
      "[nltk_data]   Package stopwords is already up-to-date!\n"
     ]
    }
   ],
   "source": [
    "# Download stopwords from NLTK\n",
    "from nltk import download\n",
    "download('stopwords')\n",
    "from nltk.corpus import stopwords\n",
    "stop_words = set(stopwords.words('english'))"
   ]
  },
  {
   "cell_type": "code",
   "execution_count": 7,
   "metadata": {
    "pycharm": {
     "name": "#%%\n"
    }
   },
   "outputs": [],
   "source": [
    "# Clean Data\n",
    "def text_cleaner(text):\n",
    "    new_string = text.lower() #lower case\n",
    "    new_string = re.sub(r'\\([^)]*\\)', '', new_string)\n",
    "    new_string = re.sub('\"','', new_string)\n",
    "    new_string = re.sub(r\"'s\\b\",\"\",new_string) # delete 's in the text\n",
    "    new_string = re.sub(\"[^a-zA-Z]\", \" \", new_string) # Change punctuation into a single space\n",
    "    new_string = re.sub('[m]{2,}', 'mm', new_string)\n",
    "    cleaned_text = [w for w in new_string.split() if w not in stop_words]\n",
    "    return cleaned_text"
   ]
  },
  {
   "cell_type": "code",
   "execution_count": 8,
   "metadata": {
    "pycharm": {
     "name": "#%%\n"
    }
   },
   "outputs": [],
   "source": [
    "# Collect cleaned texts, save them into another column\n",
    "words = []\n",
    "for t in data['text']:\n",
    "    word = text_cleaner(t)\n",
    "    words.append(word)"
   ]
  },
  {
   "cell_type": "code",
   "execution_count": 9,
   "metadata": {
    "pycharm": {
     "name": "#%%\n"
    }
   },
   "outputs": [
    {
     "data": {
      "text/plain": [
       "0    [rt, frank, chimienti, handfuls, biden, rally,...\n",
       "1    [usually, wicker, furniture, used, outdoors, p...\n",
       "2    [underthewitness, hi, city, law, amp, law, req...\n",
       "3    [dawnroseturner, bonjour, unroll, smillssk, sk...\n",
       "4    [rt, fox, dallas, county, issuing, warning, in...\n",
       "Name: cleaned_text, dtype: object"
      ]
     },
     "execution_count": 9,
     "metadata": {},
     "output_type": "execute_result"
    }
   ],
   "source": [
    "data['cleaned_text'] = words\n",
    "# data['cleaned_text'] = data['cleaned_text'].astype('string')\n",
    "data['cleaned_text'][:5]"
   ]
  },
  {
   "cell_type": "code",
   "execution_count": 10,
   "metadata": {},
   "outputs": [
    {
     "name": "stdout",
     "output_type": "stream",
     "text": [
      "<class 'pandas.core.frame.DataFrame'>\n",
      "Int64Index: 2185 entries, 0 to 4787\n",
      "Data columns (total 2 columns):\n",
      " #   Column        Non-Null Count  Dtype \n",
      "---  ------        --------------  ----- \n",
      " 0   text          2185 non-null   string\n",
      " 1   cleaned_text  2185 non-null   object\n",
      "dtypes: object(1), string(1)\n",
      "memory usage: 51.2+ KB\n"
     ]
    }
   ],
   "source": [
    "data.info()"
   ]
  },
  {
   "cell_type": "code",
   "execution_count": 11,
   "metadata": {},
   "outputs": [],
   "source": [
    "for r in data['cleaned_text']:\n",
    "    dict = {}\n",
    "    for w in r:\n",
    "        dict[w] = dict.get(w, 0) + 1\n",
    "#     print (dict)"
   ]
  },
  {
   "cell_type": "code",
   "execution_count": 12,
   "metadata": {},
   "outputs": [],
   "source": [
    "pWords = open(\"polarity/positive-words.txt\", \"r\")\n",
    "pWordsRead = pWords.read()\n",
    "pWList = pWordsRead.split(\"\\n\")\n",
    "nWords = open(\"polarity/negative-words.txt\", \"r\")\n",
    "nWordsRead = nWords.read()\n",
    "nWList = nWordsRead.split(\"\\n\")"
   ]
  },
  {
   "cell_type": "code",
   "execution_count": 13,
   "metadata": {},
   "outputs": [],
   "source": [
    "def polarity_check(row):\n",
    "    dict = {}\n",
    "    for w in row:\n",
    "        dict[w] = dict.get(w, 0) + 1\n",
    "    positive = 0\n",
    "    negative = 0\n",
    "    match = []\n",
    "    for key in dict:\n",
    "        if key in pWList:\n",
    "            # count positive words\n",
    "            positive += dict[key]\n",
    "            match.append(key)\n",
    "\n",
    "        elif key in nWList:\n",
    "            # count negative words\n",
    "            negative += dict[key]\n",
    "            match.append(key)\n",
    "\n",
    "    if negative < positive:\n",
    "        polarity = \"positive\"\n",
    "    elif negative == positive:\n",
    "        polarity = \"neutral\"\n",
    "    else:\n",
    "        polarity = \"negative\"\n",
    "\n",
    "    return match, polarity\n",
    "\n"
   ]
  },
  {
   "cell_type": "code",
   "execution_count": 14,
   "metadata": {},
   "outputs": [],
   "source": [
    "import csv\n",
    "result_csv = open(\"sentiment_analysis_results.csv\", \"w+\", newline='', encoding=\"utf-8\")\n",
    "result_csv = csv.writer(result_csv, delimiter=',', quotechar='\"', quoting = csv.QUOTE_MINIMAL)\n",
    "result_csv.writerow(['Tweet', 'Text', 'Match', 'Polarity'])\n",
    "cnt = 0\n",
    "for row_text in data['cleaned_text']:\n",
    "    cnt += 1\n",
    "    match, polarity = polarity_check(row_text)\n",
    "    result_csv.writerow([cnt, row_text, ','.join(match), polarity])\n",
    "    \n"
   ]
  },
  {
   "cell_type": "code",
   "execution_count": null,
   "metadata": {},
   "outputs": [],
   "source": []
  }
 ],
 "metadata": {
  "kernelspec": {
   "display_name": "Python 3",
   "language": "python",
   "name": "python3"
  },
  "language_info": {
   "codemirror_mode": {
    "name": "ipython",
    "version": 3
   },
   "file_extension": ".py",
   "mimetype": "text/x-python",
   "name": "python",
   "nbconvert_exporter": "python",
   "pygments_lexer": "ipython3",
   "version": "3.7.2"
  }
 },
 "nbformat": 4,
 "nbformat_minor": 1
}