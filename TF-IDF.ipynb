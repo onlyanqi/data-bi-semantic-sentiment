{
 "cells": [
  {
   "cell_type": "code",
   "execution_count": 1,
   "metadata": {},
   "outputs": [
    {
     "name": "stdout",
     "output_type": "stream",
     "text": [
      "Schema:\n",
      " _id        object\n",
      "article    object\n",
      "reuters    object\n",
      "text       object\n",
      "title      object\n",
      "dtype: object\n"
     ]
    }
   ],
   "source": [
    "import pandas as pd\n",
    "\n",
    "df=pd.read_json(\"data/reuster.json\")\n",
    "print(\"Schema:\\n\",df.dtypes)\n"
   ]
  },
  {
   "cell_type": "code",
   "execution_count": 2,
   "metadata": {},
   "outputs": [
    {
     "data": {
      "text/plain": [
       "0     title johannesburg gold shares close mixed to...\n",
       "Name: text, dtype: object"
      ]
     },
     "execution_count": 2,
     "metadata": {},
     "output_type": "execute_result"
    }
   ],
   "source": [
    "import re\n",
    "def pre_process(text):\n",
    "    text=text.lower() # lowercase\n",
    "    text=re.sub(\"\",\"\",text) #remove tags\n",
    "    text=re.sub(\"(\\\\d|\\\\W)+\",\" \",text) # remove special characters and digits\n",
    "    return text\n",
    "\n",
    "df['text'] = df['text'].apply(lambda x:pre_process(x))\n",
    "\n",
    "df['text'][:1]\n"
   ]
  },
  {
   "cell_type": "code",
   "execution_count": 3,
   "metadata": {},
   "outputs": [
    {
     "name": "stdout",
     "output_type": "stream",
     "text": [
      "canada\n",
      "df: 25\n",
      "N/df: 40.0\n",
      "Log10(N/df):1.6020599913279623\n",
      "\n",
      "rain\n",
      "df: 85\n",
      "N/df: 11.764705882352942\n",
      "Log10(N/df):1.0705810742857074\n",
      "\n",
      "cold\n",
      "df: 1\n",
      "N/df: 1000.0\n",
      "Log10(N/df):3.0\n",
      "\n",
      "hot\n",
      "df: 7\n",
      "N/df: 142.85714285714286\n",
      "Log10(N/df):2.154901959985743\n",
      "\n"
     ]
    }
   ],
   "source": [
    "import math\n",
    "def wordCounter(word):\n",
    "    count = 0\n",
    "    for t in df['text']:\n",
    "        if t.count(word) > 0:\n",
    "            count += 1\n",
    "    return count\n",
    "words = ['canada', 'rain', 'cold','hot']\n",
    "N=1000\n",
    "for w in words:\n",
    "    count = wordCounter(w)\n",
    "    print(w)\n",
    "    print(\"df: \" + str(count))\n",
    "    if count != 0:\n",
    "        tmp = N / count\n",
    "        print(\"N/df: \" + str(tmp))\n",
    "        print(\"Log10(N/df):\" + str(math.log10(tmp))+\"\\n\")\n"
   ]
  },
  {
   "cell_type": "code",
   "execution_count": 4,
   "metadata": {},
   "outputs": [
    {
     "data": {
      "text/plain": [
       "[['article111', '105', '2', '0.06666666666666667'],\n",
       " ['article213', '194', '1', '0.03608247422680412'],\n",
       " ['article261', '58', '1', '0.1206896551724138'],\n",
       " ['article279', '254', '3', '0.027559055118110236'],\n",
       " ['article320', '39', '2', '0.1794871794871795'],\n",
       " ['article357', '448', '1', '0.015625'],\n",
       " ['article412', '190', '3', '0.03684210526315789'],\n",
       " ['article479', '84', '2', '0.08333333333333333'],\n",
       " ['article542', '94', '1', '0.07446808510638298'],\n",
       " ['article565', '45', '1', '0.15555555555555556'],\n",
       " ['article609', '274', '2', '0.025547445255474453'],\n",
       " ['article674', '223', '1', '0.03139013452914798'],\n",
       " ['article700', '89', '1', '0.07865168539325842'],\n",
       " ['article674', '223', '1', '0.03139013452914798'],\n",
       " ['article733', '147', '2', '0.047619047619047616'],\n",
       " ['article739', '243', '3', '0.02880658436213992'],\n",
       " ['article756', '75', '2', '0.09333333333333334'],\n",
       " ['article772', '82', '1', '0.08536585365853659'],\n",
       " ['article778', '29', '1', '0.2413793103448276'],\n",
       " ['article858', '505', '1', '0.013861386138613862'],\n",
       " ['article863', '271', '4', '0.025830258302583026'],\n",
       " ['article890', '775', '1', '0.00903225806451613'],\n",
       " ['article927', '98', '1', '0.07142857142857142'],\n",
       " ['article987', '372', '1', '0.01881720430107527'],\n",
       " ['article991', '14', '1', '0.5']]"
      ]
     },
     "execution_count": 4,
     "metadata": {},
     "output_type": "execute_result"
    }
   ],
   "source": [
    "resultList=[]\n",
    "maxRF = 0\n",
    "word = \"canada\"\n",
    "\n",
    "for t in df['text']:\n",
    "    cnt = 0\n",
    "    total = t.split()\n",
    "    if t.count(word) > 0:\n",
    "        cnt += len(re.findall(word, t))\n",
    "        relativeFreq = count /len(total)\n",
    "        articleName=df.loc[df['text']==t, 'article'].values[0]\n",
    "        res = [str(articleName), str(len(total)), str(cnt), str(relativeFreq)]\n",
    "        resultList.append(res)\n",
    "        if maxRF < relativeFreq:\n",
    "            maxRF = relativeFreq\n",
    "            target =articleName\n",
    "resultList"
   ]
  },
  {
   "cell_type": "code",
   "execution_count": 5,
   "metadata": {
    "pycharm": {
     "name": "#%%\n"
    }
   },
   "outputs": [
    {
     "data": {
      "text/plain": [
       "'article991'"
      ]
     },
     "execution_count": 5,
     "metadata": {},
     "output_type": "execute_result"
    }
   ],
   "source": [
    "target"
   ]
  },
  {
   "cell_type": "code",
   "execution_count": 6,
   "metadata": {
    "pycharm": {
     "name": "#%%\n"
    }
   },
   "outputs": [
    {
     "data": {
      "text/plain": [
       "0.5"
      ]
     },
     "execution_count": 6,
     "metadata": {},
     "output_type": "execute_result"
    }
   ],
   "source": [
    "maxRF"
   ]
  },
  {
   "cell_type": "code",
   "execution_count": 7,
   "metadata": {
    "pycharm": {
     "name": "#%%\n"
    }
   },
   "outputs": [],
   "source": [
    "import csv\n",
    "# write csv file\n",
    "semantic_csv = open(\"semantic_analysis_results.csv\", \"w+\", newline='', encoding=\"utf-8\")\n",
    "semantic_csvx = csv.writer(semantic_csv, delimiter=',', quotechar='\"', quoting=csv.QUOTE_MINIMAL)\n",
    "semantic_csv.writerow(['Article', 'Total Words(m)', 'Frequency(f)', 'Relative Frequency (f/m)'])\n",
    "for result in resultList:\n",
    "    semantic_csv.writerow([result[0], result[1], result[2], result[3]])"
   ]
  }
 ],
 "metadata": {
  "kernelspec": {
   "display_name": "Python 3",
   "language": "python",
   "name": "python3"
  },
  "language_info": {
   "codemirror_mode": {
    "name": "ipython",
    "version": 3
   },
   "file_extension": ".py",
   "mimetype": "text/x-python",
   "name": "python",
   "nbconvert_exporter": "python",
   "pygments_lexer": "ipython3",
   "version": "3.7.2"
  }
 },
 "nbformat": 4,
 "nbformat_minor": 1
}
